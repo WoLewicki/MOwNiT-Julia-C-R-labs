{
 "cells": [
  {
   "cell_type": "code",
   "execution_count": 1,
   "metadata": {},
   "outputs": [
    {
     "name": "stdout",
     "output_type": "stream",
     "text": [
      "\u001b[32m\u001b[1m  Updating\u001b[22m\u001b[39m registry at `~/.julia/registries/General`\n",
      "\u001b[32m\u001b[1m  Updating\u001b[22m\u001b[39m git-repo `https://github.com/JuliaRegistries/General.git`\n",
      "\u001b[2K\u001b[?25h[1mFetching:\u001b[22m\u001b[39m [========================================>]  100.0 %.0 %13.3 %                        ]  39.8 % [======================>                  ]  53.1 %66.3 %      ]  84.7 %\u001b[36m\u001b[1mFetching:\u001b[22m\u001b[39m [====================================>    ]  87.8 %\u001b[32m\u001b[1m Resolving\u001b[22m\u001b[39m package versions...\n",
      "\u001b[32m\u001b[1m Installed\u001b[22m\u001b[39m Tables ───────── v0.1.14\n",
      "\u001b[32m\u001b[1m Installed\u001b[22m\u001b[39m DataStructures ─ v0.15.0\n",
      "\u001b[32m\u001b[1m Installed\u001b[22m\u001b[39m WebSockets ───── v1.2.0\n",
      "\u001b[32m\u001b[1m Installed\u001b[22m\u001b[39m GR ───────────── v0.37.0\n",
      "\u001b[32m\u001b[1m  Updating\u001b[22m\u001b[39m `~/.julia/environments/v1.0/Project.toml`\n",
      " \u001b[90m [37e2e46d]\u001b[39m\u001b[92m + LinearAlgebra \u001b[39m\n",
      "\u001b[32m\u001b[1m  Updating\u001b[22m\u001b[39m `~/.julia/environments/v1.0/Manifest.toml`\n",
      " \u001b[90m [864edb3b]\u001b[39m\u001b[93m ↑ DataStructures v0.14.0 ⇒ v0.15.0\u001b[39m\n",
      " \u001b[90m [28b8d3ca]\u001b[39m\u001b[93m ↑ GR v0.36.0 ⇒ v0.37.0\u001b[39m\n",
      " \u001b[90m [bd369af6]\u001b[39m\u001b[93m ↑ Tables v0.1.12 ⇒ v0.1.14\u001b[39m\n",
      " \u001b[90m [104b5d7c]\u001b[39m\u001b[93m ↑ WebSockets v1.1.1 ⇒ v1.2.0\u001b[39m\n",
      "\u001b[32m\u001b[1m  Building\u001b[22m\u001b[39m GR → `~/.julia/packages/GR/shnUy/deps/build.log`\n"
     ]
    }
   ],
   "source": [
    "using LinearAlgebra"
   ]
  },
  {
   "cell_type": "markdown",
   "metadata": {},
   "source": [
    "# Zadanie 1"
   ]
  },
  {
   "cell_type": "code",
   "execution_count": 2,
   "metadata": {},
   "outputs": [
    {
     "data": {
      "text/plain": [
       "1000-element Array{Float64,1}:\n",
       " 255.78968921772434\n",
       " 255.41703456642927\n",
       " 252.65287286835806\n",
       " 248.41294834272497\n",
       " 258.3106828944218 \n",
       " 253.0852010441637 \n",
       " 258.9487224255764 \n",
       " 249.3841871700951 \n",
       " 257.1304272093038 \n",
       " 248.74945627637373\n",
       " 246.49236697057344\n",
       " 250.39678608534015\n",
       " 254.73742757445444\n",
       "   ⋮               \n",
       " 249.90893040781444\n",
       " 239.65270306939604\n",
       " 250.17673051668189\n",
       " 251.27103625519499\n",
       " 247.15759027353454\n",
       " 249.58977944453773\n",
       " 240.92796908595338\n",
       " 249.1406949878608 \n",
       " 249.50788524154805\n",
       " 250.54094157131297\n",
       " 266.4041157670232 \n",
       " 252.50137621636796"
      ]
     },
     "execution_count": 2,
     "metadata": {},
     "output_type": "execute_result"
    }
   ],
   "source": [
    "x = rand(1000)\n",
    "A = rand(1000,1000)\n",
    "b = A*x"
   ]
  },
  {
   "cell_type": "code",
   "execution_count": 19,
   "metadata": {},
   "outputs": [
    {
     "name": "stdout",
     "output_type": "stream",
     "text": [
      "  0.044230 seconds (5 allocations: 7.645 MiB)\n",
      "  0.046450 seconds (5 allocations: 7.645 MiB)\n"
     ]
    },
    {
     "data": {
      "text/plain": [
       "3-element Array{Any,1}:\n",
       " 6.902909569458534e-11\n",
       " 6.902909569458534e-11\n",
       " 3.306964327719669e-11"
      ]
     },
     "execution_count": 19,
     "metadata": {},
     "output_type": "execute_result"
    }
   ],
   "source": [
    "function work(A, b, x, results)\n",
    "    @time resinv = inv(A)*b\n",
    "    push!(results, norm(resinv-x))\n",
    "    @time resslash = A\\b\n",
    "    push!(results, norm(resinv-x))\n",
    "    @time resfact = factorize(A)\\b\n",
    "    push!(results, norm(resfact-x))\n",
    "end\n",
    "results = []\n",
    "work(A,b,x, results)\n",
    "results"
   ]
  },
  {
   "cell_type": "markdown",
   "metadata": {},
   "source": [
    "# Zadanie 2"
   ]
  },
  {
   "cell_type": "code",
   "execution_count": 21,
   "metadata": {},
   "outputs": [
    {
     "name": "stderr",
     "output_type": "stream",
     "text": [
      "┌ Info: Recompiling stale cache file /home/wojlewy/.julia/compiled/v1.0/Plots/ld3vC.ji for Plots [91a5bcdd-55d7-5caf-9e0b-520d859cae80]\n",
      "└ @ Base loading.jl:1187\n",
      "┌ Info: Recompiling stale cache file /home/wojlewy/.julia/compiled/v1.0/CSV/HHBkp.ji for CSV [336ed68f-0bac-5ca0-87d4-7b16caf5d00b]\n",
      "└ @ Base loading.jl:1187\n"
     ]
    }
   ],
   "source": [
    "using Plots\n",
    "using Polynomials\n",
    "using CSV"
   ]
  },
  {
   "cell_type": "code",
   "execution_count": 22,
   "metadata": {},
   "outputs": [
    {
     "data": {
      "text/html": [
       "<table class=\"data-frame\"><thead><tr><th></th><th>naive100</th><th>naive200</th><th>naive300</th><th>naive400</th><th>naive500</th><th>better100</th><th>better200</th><th>better300</th><th>better400</th><th>better500</th><th>blas100</th><th>blas200</th><th>blas300</th><th>blas400</th><th>blas500</th></tr><tr><th></th><th>Float64⍰</th><th>Float64⍰</th><th>Float64⍰</th><th>Float64⍰</th><th>Float64⍰</th><th>Float64⍰</th><th>Float64⍰</th><th>Float64⍰</th><th>Float64⍰</th><th>Float64⍰</th><th>Float64⍰</th><th>Float64⍰</th><th>Float64⍰</th><th>Float64⍰</th><th>Float64⍰</th></tr></thead><tbody><tr><th>1</th><td>0.006554</td><td>0.049226</td><td>0.126055</td><td>0.293844</td><td>0.600215</td><td>0.00466</td><td>0.059867</td><td>0.140353</td><td>0.327196</td><td>0.629855</td><td>0.000744</td><td>0.006282</td><td>0.02176</td><td>0.053105</td><td>0.102648</td></tr><tr><th>2</th><td>0.004671</td><td>0.038688</td><td>0.127381</td><td>0.293281</td><td>0.580099</td><td>0.004762</td><td>0.037532</td><td>0.125671</td><td>0.296581</td><td>0.586737</td><td>0.000801</td><td>0.006611</td><td>0.022747</td><td>0.051832</td><td>0.109786</td></tr><tr><th>3</th><td>0.004629</td><td>0.037324</td><td>0.126493</td><td>0.307908</td><td>0.640319</td><td>0.004672</td><td>0.043219</td><td>0.147368</td><td>0.359769</td><td>0.78753</td><td>0.001954</td><td>0.010518</td><td>0.027932</td><td>0.097359</td><td>0.210871</td></tr><tr><th>4</th><td>0.005143</td><td>0.053126</td><td>0.153393</td><td>0.318974</td><td>0.620704</td><td>0.004839</td><td>0.038549</td><td>0.133692</td><td>0.369598</td><td>1.00027</td><td>0.00154</td><td>0.011879</td><td>0.04613</td><td>0.102998</td><td>0.223195</td></tr><tr><th>5</th><td>0.010061</td><td>0.061681</td><td>0.194249</td><td>0.4864</td><td>0.998762</td><td>0.006694</td><td>0.053038</td><td>0.173167</td><td>0.549996</td><td>0.843898</td><td>0.000969</td><td>0.007188</td><td>0.038604</td><td>0.080351</td><td>0.189673</td></tr><tr><th>6</th><td>0.005622</td><td>0.054245</td><td>0.235787</td><td>0.491879</td><td>0.919742</td><td>0.007219</td><td>0.051979</td><td>0.157981</td><td>0.380438</td><td>0.637147</td><td>0.000818</td><td>0.006527</td><td>0.021417</td><td>0.053065</td><td>0.103337</td></tr><tr><th>7</th><td>0.004673</td><td>0.03741</td><td>0.124142</td><td>0.295988</td><td>0.583698</td><td>0.004731</td><td>0.038909</td><td>0.140949</td><td>0.295989</td><td>0.582159</td><td>0.000849</td><td>0.00618</td><td>0.021162</td><td>0.051127</td><td>0.103732</td></tr><tr><th>8</th><td>0.004689</td><td>0.036951</td><td>0.125586</td><td>0.29707</td><td>0.579931</td><td>0.004749</td><td>0.03748</td><td>0.128244</td><td>0.297466</td><td>0.579295</td><td>0.000824</td><td>0.00662</td><td>0.023816</td><td>0.058957</td><td>0.102956</td></tr><tr><th>9</th><td>0.004638</td><td>0.037182</td><td>0.125853</td><td>0.295395</td><td>0.574049</td><td>0.004638</td><td>0.037259</td><td>0.127192</td><td>0.297765</td><td>0.580618</td><td>0.00074</td><td>0.006197</td><td>0.02215</td><td>0.05222</td><td>0.103356</td></tr><tr><th>10</th><td>0.004696</td><td>0.03706</td><td>0.123495</td><td>0.292471</td><td>0.575187</td><td>0.004717</td><td>0.037021</td><td>0.123705</td><td>0.293139</td><td>0.586053</td><td>0.000808</td><td>0.010264</td><td>0.033052</td><td>0.091328</td><td>0.12524</td></tr></tbody></table>"
      ],
      "text/plain": [
       "10×15 DataFrames.DataFrame. Omitted printing of 9 columns\n",
       "│ Row │ naive100 │ naive200 │ naive300 │ naive400 │ naive500 │ better100 │\n",
       "│     │ \u001b[90mFloat64⍰\u001b[39m │ \u001b[90mFloat64⍰\u001b[39m │ \u001b[90mFloat64⍰\u001b[39m │ \u001b[90mFloat64⍰\u001b[39m │ \u001b[90mFloat64⍰\u001b[39m │ \u001b[90mFloat64⍰\u001b[39m  │\n",
       "├─────┼──────────┼──────────┼──────────┼──────────┼──────────┼───────────┤\n",
       "│ 1   │ 0.006554 │ 0.049226 │ 0.126055 │ 0.293844 │ 0.600215 │ 0.00466   │\n",
       "│ 2   │ 0.004671 │ 0.038688 │ 0.127381 │ 0.293281 │ 0.580099 │ 0.004762  │\n",
       "│ 3   │ 0.004629 │ 0.037324 │ 0.126493 │ 0.307908 │ 0.640319 │ 0.004672  │\n",
       "│ 4   │ 0.005143 │ 0.053126 │ 0.153393 │ 0.318974 │ 0.620704 │ 0.004839  │\n",
       "│ 5   │ 0.010061 │ 0.061681 │ 0.194249 │ 0.4864   │ 0.998762 │ 0.006694  │\n",
       "│ 6   │ 0.005622 │ 0.054245 │ 0.235787 │ 0.491879 │ 0.919742 │ 0.007219  │\n",
       "│ 7   │ 0.004673 │ 0.03741  │ 0.124142 │ 0.295988 │ 0.583698 │ 0.004731  │\n",
       "│ 8   │ 0.004689 │ 0.036951 │ 0.125586 │ 0.29707  │ 0.579931 │ 0.004749  │\n",
       "│ 9   │ 0.004638 │ 0.037182 │ 0.125853 │ 0.295395 │ 0.574049 │ 0.004638  │\n",
       "│ 10  │ 0.004696 │ 0.03706  │ 0.123495 │ 0.292471 │ 0.575187 │ 0.004717  │"
      ]
     },
     "execution_count": 22,
     "metadata": {},
     "output_type": "execute_result"
    }
   ],
   "source": [
    "input =\"/home/wojlewy/Pulpit/LewickiWojciech/mownit2/lab10/results.csv\"\n",
    "results =CSV.read(input, delim=\";\")"
   ]
  },
  {
   "cell_type": "code",
   "execution_count": 40,
   "metadata": {},
   "outputs": [
    {
     "data": {
      "text/plain": [
       "5-element Array{Int64,1}:\n",
       " 100\n",
       " 200\n",
       " 300\n",
       " 400\n",
       " 500"
      ]
     },
     "execution_count": 40,
     "metadata": {},
     "output_type": "execute_result"
    }
   ],
   "source": [
    "data1 = [results[i][1] for i=1:5]\n",
    "data2 = [results[i][2] for i=1:5]\n",
    "data3 = [results[i][3] for i=1:5]\n",
    "timestamps = [i for i=100:100:500]"
   ]
  },
  {
   "cell_type": "code",
   "execution_count": 49,
   "metadata": {},
   "outputs": [
    {
     "name": "stdout",
     "output_type": "stream",
     "text": [
      "[88.1153, 2421.37, -6314.99, 5705.15]Poly(88.11530509090403 + 2421.3654122999733*x - 6314.986890379312*x^2 + 5705.150382905373*x^3)"
     ]
    }
   ],
   "source": [
    "A1 =zeros(5, 4)\n",
    "A1[:,1] = data1.^3\n",
    "A1[:,2] = data1.^2\n",
    "A1[:,3] = data1\n",
    "A1[:,4] = ones(5)\n",
    "A1F = factorize(A1)\n",
    "res1 = A1F.R\\((Transpose(A1F.Q)*timestamps)[1:4])\n",
    "fit1 = polyfit(data1, timestamps, 3)\n",
    "print(res1, fit1)"
   ]
  },
  {
   "cell_type": "code",
   "execution_count": 50,
   "metadata": {},
   "outputs": [
    {
     "name": "stdout",
     "output_type": "stream",
     "text": [
      "[100.154, 2341.3, -6235.16, 5840.18]Poly(100.1537632708348 + 2341.2968946124383*x - 6235.157091318693*x^2 + 5840.180658242943*x^3)"
     ]
    }
   ],
   "source": [
    "A2 =zeros(5, 4)\n",
    "A2[:,1] = data2.^3\n",
    "A2[:,2] = data2.^2\n",
    "A2[:,3] = data2\n",
    "A2[:,4] = ones(5)\n",
    "A2F = factorize(A2)\n",
    "res2 = A2F.R\\((Transpose(A2F.Q)*timestamps)[1:4])\n",
    "fit2 = polyfit(data2, timestamps, 3)\n",
    "print(res2, fit2)"
   ]
  },
  {
   "cell_type": "code",
   "execution_count": 51,
   "metadata": {},
   "outputs": [
    {
     "name": "stdout",
     "output_type": "stream",
     "text": [
      "[101.672, 2320.93, -6039.95, 5289.82]Poly(101.67180582772518 + 2320.929992553768*x - 6039.95290598552*x^2 + 5289.816890546481*x^3)"
     ]
    }
   ],
   "source": [
    "A3 =zeros(5, 4)\n",
    "A3[:,1] = data3.^3\n",
    "A3[:,2] = data3.^2\n",
    "A3[:,3] = data3\n",
    "A3[:,4] = ones(5)\n",
    "A3F = factorize(A3)\n",
    "res3 = A3F.R\\((Transpose(A3F.Q)*timestamps)[1:4])\n",
    "fit3 = polyfit(data3, timestamps, 3)\n",
    "print(res3, fit3)"
   ]
  }
 ],
 "metadata": {
  "@webio": {
   "lastCommId": "f2a5f9f40ac9436cb67dcc0e955eb480",
   "lastKernelId": "9f54817b-2a9c-4c86-90f9-040c9702de3b"
  },
  "kernelspec": {
   "display_name": "Julia 1.0.1",
   "language": "julia",
   "name": "julia-1.0"
  },
  "language_info": {
   "file_extension": ".jl",
   "mimetype": "application/julia",
   "name": "julia",
   "version": "1.0.1"
  }
 },
 "nbformat": 4,
 "nbformat_minor": 2
}
