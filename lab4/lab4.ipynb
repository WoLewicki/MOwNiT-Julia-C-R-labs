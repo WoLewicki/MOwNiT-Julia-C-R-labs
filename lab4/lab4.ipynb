{
 "cells": [
  {
   "cell_type": "code",
   "execution_count": 1,
   "metadata": {},
   "outputs": [
    {
     "name": "stderr",
     "output_type": "stream",
     "text": [
      "Installing package into ‘/home/wojlewy/R/x86_64-pc-linux-gnu-library/3.2’\n",
      "(as ‘lib’ is unspecified)\n"
     ]
    },
    {
     "name": "stdout",
     "output_type": "stream",
     "text": [
      "\n",
      "The downloaded source packages are in\n",
      "\t‘/tmp/RtmpHqAY46/downloaded_packages’\n"
     ]
    }
   ],
   "source": [
    "install.packages(\"ggplot2\")\n",
    "library(\"ggplot2\")"
   ]
  },
  {
   "cell_type": "code",
   "execution_count": 2,
   "metadata": {},
   "outputs": [],
   "source": [
    "results = read.csv(\"results.txt\")"
   ]
  },
  {
   "cell_type": "code",
   "execution_count": 3,
   "metadata": {},
   "outputs": [
    {
     "data": {
      "text/html": [
       "<table>\n",
       "<thead><tr><th scope=col>repeat.</th><th scope=col>time</th><th scope=col>size</th><th scope=col>type</th></tr></thead>\n",
       "<tbody>\n",
       "\t<tr><td> 1      </td><td>0.005501</td><td>2000    </td><td>2       </td></tr>\n",
       "\t<tr><td> 2      </td><td>0.004784</td><td>2000    </td><td>2       </td></tr>\n",
       "\t<tr><td> 3      </td><td>0.005102</td><td>2000    </td><td>2       </td></tr>\n",
       "\t<tr><td> 4      </td><td>0.005014</td><td>2000    </td><td>2       </td></tr>\n",
       "\t<tr><td> 5      </td><td>0.004691</td><td>2000    </td><td>2       </td></tr>\n",
       "\t<tr><td> 6      </td><td>0.004693</td><td>2000    </td><td>2       </td></tr>\n",
       "\t<tr><td> 7      </td><td>0.004980</td><td>2000    </td><td>2       </td></tr>\n",
       "\t<tr><td> 8      </td><td>0.004797</td><td>2000    </td><td>2       </td></tr>\n",
       "\t<tr><td> 9      </td><td>0.004993</td><td>2000    </td><td>2       </td></tr>\n",
       "\t<tr><td>10      </td><td>0.004729</td><td>2000    </td><td>2       </td></tr>\n",
       "\t<tr><td> 1      </td><td>0.020687</td><td>4000    </td><td>2       </td></tr>\n",
       "\t<tr><td> 2      </td><td>0.019291</td><td>4000    </td><td>2       </td></tr>\n",
       "\t<tr><td> 3      </td><td>0.020707</td><td>4000    </td><td>2       </td></tr>\n",
       "\t<tr><td> 4      </td><td>0.019645</td><td>4000    </td><td>2       </td></tr>\n",
       "\t<tr><td> 5      </td><td>0.020165</td><td>4000    </td><td>2       </td></tr>\n",
       "\t<tr><td> 6      </td><td>0.019763</td><td>4000    </td><td>2       </td></tr>\n",
       "\t<tr><td> 7      </td><td>0.019674</td><td>4000    </td><td>2       </td></tr>\n",
       "\t<tr><td> 8      </td><td>0.020668</td><td>4000    </td><td>2       </td></tr>\n",
       "\t<tr><td> 9      </td><td>0.021347</td><td>4000    </td><td>2       </td></tr>\n",
       "\t<tr><td>10      </td><td>0.020566</td><td>4000    </td><td>2       </td></tr>\n",
       "\t<tr><td> 1      </td><td>0.045078</td><td>6000    </td><td>2       </td></tr>\n",
       "\t<tr><td> 2      </td><td>0.045436</td><td>6000    </td><td>2       </td></tr>\n",
       "\t<tr><td> 3      </td><td>0.045930</td><td>6000    </td><td>2       </td></tr>\n",
       "\t<tr><td> 4      </td><td>0.050645</td><td>6000    </td><td>2       </td></tr>\n",
       "\t<tr><td> 5      </td><td>0.051174</td><td>6000    </td><td>2       </td></tr>\n",
       "\t<tr><td> 6      </td><td>0.045961</td><td>6000    </td><td>2       </td></tr>\n",
       "\t<tr><td> 7      </td><td>0.046544</td><td>6000    </td><td>2       </td></tr>\n",
       "\t<tr><td> 8      </td><td>0.044525</td><td>6000    </td><td>2       </td></tr>\n",
       "\t<tr><td> 9      </td><td>0.051625</td><td>6000    </td><td>2       </td></tr>\n",
       "\t<tr><td>10      </td><td>0.049209</td><td>6000    </td><td>2       </td></tr>\n",
       "\t<tr><td>⋮</td><td>⋮</td><td>⋮</td><td>⋮</td></tr>\n",
       "\t<tr><td> 1      </td><td>0.041792</td><td>30000000</td><td>1       </td></tr>\n",
       "\t<tr><td> 2      </td><td>0.041196</td><td>30000000</td><td>1       </td></tr>\n",
       "\t<tr><td> 3      </td><td>0.044464</td><td>30000000</td><td>1       </td></tr>\n",
       "\t<tr><td> 4      </td><td>0.040258</td><td>30000000</td><td>1       </td></tr>\n",
       "\t<tr><td> 5      </td><td>0.039308</td><td>30000000</td><td>1       </td></tr>\n",
       "\t<tr><td> 6      </td><td>0.041470</td><td>30000000</td><td>1       </td></tr>\n",
       "\t<tr><td> 7      </td><td>0.039619</td><td>30000000</td><td>1       </td></tr>\n",
       "\t<tr><td> 8      </td><td>0.040839</td><td>30000000</td><td>1       </td></tr>\n",
       "\t<tr><td> 9      </td><td>0.040246</td><td>30000000</td><td>1       </td></tr>\n",
       "\t<tr><td>10      </td><td>0.042736</td><td>30000000</td><td>1       </td></tr>\n",
       "\t<tr><td> 1      </td><td>0.053225</td><td>40000000</td><td>1       </td></tr>\n",
       "\t<tr><td> 2      </td><td>0.054105</td><td>40000000</td><td>1       </td></tr>\n",
       "\t<tr><td> 3      </td><td>0.053808</td><td>40000000</td><td>1       </td></tr>\n",
       "\t<tr><td> 4      </td><td>0.054664</td><td>40000000</td><td>1       </td></tr>\n",
       "\t<tr><td> 5      </td><td>0.053871</td><td>40000000</td><td>1       </td></tr>\n",
       "\t<tr><td> 6      </td><td>0.054025</td><td>40000000</td><td>1       </td></tr>\n",
       "\t<tr><td> 7      </td><td>0.053482</td><td>40000000</td><td>1       </td></tr>\n",
       "\t<tr><td> 8      </td><td>0.053168</td><td>40000000</td><td>1       </td></tr>\n",
       "\t<tr><td> 9      </td><td>0.053555</td><td>40000000</td><td>1       </td></tr>\n",
       "\t<tr><td>10      </td><td>0.052971</td><td>40000000</td><td>1       </td></tr>\n",
       "\t<tr><td> 1      </td><td>0.067347</td><td>50000000</td><td>1       </td></tr>\n",
       "\t<tr><td> 2      </td><td>0.066210</td><td>50000000</td><td>1       </td></tr>\n",
       "\t<tr><td> 3      </td><td>0.066959</td><td>50000000</td><td>1       </td></tr>\n",
       "\t<tr><td> 4      </td><td>0.067223</td><td>50000000</td><td>1       </td></tr>\n",
       "\t<tr><td> 5      </td><td>0.067356</td><td>50000000</td><td>1       </td></tr>\n",
       "\t<tr><td> 6      </td><td>0.066328</td><td>50000000</td><td>1       </td></tr>\n",
       "\t<tr><td> 7      </td><td>0.066352</td><td>50000000</td><td>1       </td></tr>\n",
       "\t<tr><td> 8      </td><td>0.067573</td><td>50000000</td><td>1       </td></tr>\n",
       "\t<tr><td> 9      </td><td>0.067245</td><td>50000000</td><td>1       </td></tr>\n",
       "\t<tr><td>10      </td><td>0.069816</td><td>50000000</td><td>1       </td></tr>\n",
       "</tbody>\n",
       "</table>\n"
      ],
      "text/latex": [
       "\\begin{tabular}{r|llll}\n",
       " repeat. & time & size & type\\\\\n",
       "\\hline\n",
       "\t  1       & 0.005501 & 2000     & 2       \\\\\n",
       "\t  2       & 0.004784 & 2000     & 2       \\\\\n",
       "\t  3       & 0.005102 & 2000     & 2       \\\\\n",
       "\t  4       & 0.005014 & 2000     & 2       \\\\\n",
       "\t  5       & 0.004691 & 2000     & 2       \\\\\n",
       "\t  6       & 0.004693 & 2000     & 2       \\\\\n",
       "\t  7       & 0.004980 & 2000     & 2       \\\\\n",
       "\t  8       & 0.004797 & 2000     & 2       \\\\\n",
       "\t  9       & 0.004993 & 2000     & 2       \\\\\n",
       "\t 10       & 0.004729 & 2000     & 2       \\\\\n",
       "\t  1       & 0.020687 & 4000     & 2       \\\\\n",
       "\t  2       & 0.019291 & 4000     & 2       \\\\\n",
       "\t  3       & 0.020707 & 4000     & 2       \\\\\n",
       "\t  4       & 0.019645 & 4000     & 2       \\\\\n",
       "\t  5       & 0.020165 & 4000     & 2       \\\\\n",
       "\t  6       & 0.019763 & 4000     & 2       \\\\\n",
       "\t  7       & 0.019674 & 4000     & 2       \\\\\n",
       "\t  8       & 0.020668 & 4000     & 2       \\\\\n",
       "\t  9       & 0.021347 & 4000     & 2       \\\\\n",
       "\t 10       & 0.020566 & 4000     & 2       \\\\\n",
       "\t  1       & 0.045078 & 6000     & 2       \\\\\n",
       "\t  2       & 0.045436 & 6000     & 2       \\\\\n",
       "\t  3       & 0.045930 & 6000     & 2       \\\\\n",
       "\t  4       & 0.050645 & 6000     & 2       \\\\\n",
       "\t  5       & 0.051174 & 6000     & 2       \\\\\n",
       "\t  6       & 0.045961 & 6000     & 2       \\\\\n",
       "\t  7       & 0.046544 & 6000     & 2       \\\\\n",
       "\t  8       & 0.044525 & 6000     & 2       \\\\\n",
       "\t  9       & 0.051625 & 6000     & 2       \\\\\n",
       "\t 10       & 0.049209 & 6000     & 2       \\\\\n",
       "\t ⋮ & ⋮ & ⋮ & ⋮\\\\\n",
       "\t  1       & 0.041792 & 30000000 & 1       \\\\\n",
       "\t  2       & 0.041196 & 30000000 & 1       \\\\\n",
       "\t  3       & 0.044464 & 30000000 & 1       \\\\\n",
       "\t  4       & 0.040258 & 30000000 & 1       \\\\\n",
       "\t  5       & 0.039308 & 30000000 & 1       \\\\\n",
       "\t  6       & 0.041470 & 30000000 & 1       \\\\\n",
       "\t  7       & 0.039619 & 30000000 & 1       \\\\\n",
       "\t  8       & 0.040839 & 30000000 & 1       \\\\\n",
       "\t  9       & 0.040246 & 30000000 & 1       \\\\\n",
       "\t 10       & 0.042736 & 30000000 & 1       \\\\\n",
       "\t  1       & 0.053225 & 40000000 & 1       \\\\\n",
       "\t  2       & 0.054105 & 40000000 & 1       \\\\\n",
       "\t  3       & 0.053808 & 40000000 & 1       \\\\\n",
       "\t  4       & 0.054664 & 40000000 & 1       \\\\\n",
       "\t  5       & 0.053871 & 40000000 & 1       \\\\\n",
       "\t  6       & 0.054025 & 40000000 & 1       \\\\\n",
       "\t  7       & 0.053482 & 40000000 & 1       \\\\\n",
       "\t  8       & 0.053168 & 40000000 & 1       \\\\\n",
       "\t  9       & 0.053555 & 40000000 & 1       \\\\\n",
       "\t 10       & 0.052971 & 40000000 & 1       \\\\\n",
       "\t  1       & 0.067347 & 50000000 & 1       \\\\\n",
       "\t  2       & 0.066210 & 50000000 & 1       \\\\\n",
       "\t  3       & 0.066959 & 50000000 & 1       \\\\\n",
       "\t  4       & 0.067223 & 50000000 & 1       \\\\\n",
       "\t  5       & 0.067356 & 50000000 & 1       \\\\\n",
       "\t  6       & 0.066328 & 50000000 & 1       \\\\\n",
       "\t  7       & 0.066352 & 50000000 & 1       \\\\\n",
       "\t  8       & 0.067573 & 50000000 & 1       \\\\\n",
       "\t  9       & 0.067245 & 50000000 & 1       \\\\\n",
       "\t 10       & 0.069816 & 50000000 & 1       \\\\\n",
       "\\end{tabular}\n"
      ],
      "text/markdown": [
       "\n",
       "repeat. | time | size | type | \n",
       "|---|---|---|---|---|---|---|---|---|---|---|---|---|---|---|---|---|---|---|---|---|---|---|---|---|---|---|---|---|---|---|---|---|---|---|---|---|---|---|---|---|---|---|---|---|---|---|---|---|---|---|---|---|---|---|---|---|---|---|---|---|\n",
       "|  1       | 0.005501 | 2000     | 2        | \n",
       "|  2       | 0.004784 | 2000     | 2        | \n",
       "|  3       | 0.005102 | 2000     | 2        | \n",
       "|  4       | 0.005014 | 2000     | 2        | \n",
       "|  5       | 0.004691 | 2000     | 2        | \n",
       "|  6       | 0.004693 | 2000     | 2        | \n",
       "|  7       | 0.004980 | 2000     | 2        | \n",
       "|  8       | 0.004797 | 2000     | 2        | \n",
       "|  9       | 0.004993 | 2000     | 2        | \n",
       "| 10       | 0.004729 | 2000     | 2        | \n",
       "|  1       | 0.020687 | 4000     | 2        | \n",
       "|  2       | 0.019291 | 4000     | 2        | \n",
       "|  3       | 0.020707 | 4000     | 2        | \n",
       "|  4       | 0.019645 | 4000     | 2        | \n",
       "|  5       | 0.020165 | 4000     | 2        | \n",
       "|  6       | 0.019763 | 4000     | 2        | \n",
       "|  7       | 0.019674 | 4000     | 2        | \n",
       "|  8       | 0.020668 | 4000     | 2        | \n",
       "|  9       | 0.021347 | 4000     | 2        | \n",
       "| 10       | 0.020566 | 4000     | 2        | \n",
       "|  1       | 0.045078 | 6000     | 2        | \n",
       "|  2       | 0.045436 | 6000     | 2        | \n",
       "|  3       | 0.045930 | 6000     | 2        | \n",
       "|  4       | 0.050645 | 6000     | 2        | \n",
       "|  5       | 0.051174 | 6000     | 2        | \n",
       "|  6       | 0.045961 | 6000     | 2        | \n",
       "|  7       | 0.046544 | 6000     | 2        | \n",
       "|  8       | 0.044525 | 6000     | 2        | \n",
       "|  9       | 0.051625 | 6000     | 2        | \n",
       "| 10       | 0.049209 | 6000     | 2        | \n",
       "| ⋮ | ⋮ | ⋮ | ⋮ | \n",
       "|  1       | 0.041792 | 30000000 | 1        | \n",
       "|  2       | 0.041196 | 30000000 | 1        | \n",
       "|  3       | 0.044464 | 30000000 | 1        | \n",
       "|  4       | 0.040258 | 30000000 | 1        | \n",
       "|  5       | 0.039308 | 30000000 | 1        | \n",
       "|  6       | 0.041470 | 30000000 | 1        | \n",
       "|  7       | 0.039619 | 30000000 | 1        | \n",
       "|  8       | 0.040839 | 30000000 | 1        | \n",
       "|  9       | 0.040246 | 30000000 | 1        | \n",
       "| 10       | 0.042736 | 30000000 | 1        | \n",
       "|  1       | 0.053225 | 40000000 | 1        | \n",
       "|  2       | 0.054105 | 40000000 | 1        | \n",
       "|  3       | 0.053808 | 40000000 | 1        | \n",
       "|  4       | 0.054664 | 40000000 | 1        | \n",
       "|  5       | 0.053871 | 40000000 | 1        | \n",
       "|  6       | 0.054025 | 40000000 | 1        | \n",
       "|  7       | 0.053482 | 40000000 | 1        | \n",
       "|  8       | 0.053168 | 40000000 | 1        | \n",
       "|  9       | 0.053555 | 40000000 | 1        | \n",
       "| 10       | 0.052971 | 40000000 | 1        | \n",
       "|  1       | 0.067347 | 50000000 | 1        | \n",
       "|  2       | 0.066210 | 50000000 | 1        | \n",
       "|  3       | 0.066959 | 50000000 | 1        | \n",
       "|  4       | 0.067223 | 50000000 | 1        | \n",
       "|  5       | 0.067356 | 50000000 | 1        | \n",
       "|  6       | 0.066328 | 50000000 | 1        | \n",
       "|  7       | 0.066352 | 50000000 | 1        | \n",
       "|  8       | 0.067573 | 50000000 | 1        | \n",
       "|  9       | 0.067245 | 50000000 | 1        | \n",
       "| 10       | 0.069816 | 50000000 | 1        | \n",
       "\n",
       "\n"
      ],
      "text/plain": [
       "    repeat. time     size     type\n",
       "1    1      0.005501 2000     2   \n",
       "2    2      0.004784 2000     2   \n",
       "3    3      0.005102 2000     2   \n",
       "4    4      0.005014 2000     2   \n",
       "5    5      0.004691 2000     2   \n",
       "6    6      0.004693 2000     2   \n",
       "7    7      0.004980 2000     2   \n",
       "8    8      0.004797 2000     2   \n",
       "9    9      0.004993 2000     2   \n",
       "10  10      0.004729 2000     2   \n",
       "11   1      0.020687 4000     2   \n",
       "12   2      0.019291 4000     2   \n",
       "13   3      0.020707 4000     2   \n",
       "14   4      0.019645 4000     2   \n",
       "15   5      0.020165 4000     2   \n",
       "16   6      0.019763 4000     2   \n",
       "17   7      0.019674 4000     2   \n",
       "18   8      0.020668 4000     2   \n",
       "19   9      0.021347 4000     2   \n",
       "20  10      0.020566 4000     2   \n",
       "21   1      0.045078 6000     2   \n",
       "22   2      0.045436 6000     2   \n",
       "23   3      0.045930 6000     2   \n",
       "24   4      0.050645 6000     2   \n",
       "25   5      0.051174 6000     2   \n",
       "26   6      0.045961 6000     2   \n",
       "27   7      0.046544 6000     2   \n",
       "28   8      0.044525 6000     2   \n",
       "29   9      0.051625 6000     2   \n",
       "30  10      0.049209 6000     2   \n",
       "⋮   ⋮       ⋮        ⋮        ⋮   \n",
       "71   1      0.041792 30000000 1   \n",
       "72   2      0.041196 30000000 1   \n",
       "73   3      0.044464 30000000 1   \n",
       "74   4      0.040258 30000000 1   \n",
       "75   5      0.039308 30000000 1   \n",
       "76   6      0.041470 30000000 1   \n",
       "77   7      0.039619 30000000 1   \n",
       "78   8      0.040839 30000000 1   \n",
       "79   9      0.040246 30000000 1   \n",
       "80  10      0.042736 30000000 1   \n",
       "81   1      0.053225 40000000 1   \n",
       "82   2      0.054105 40000000 1   \n",
       "83   3      0.053808 40000000 1   \n",
       "84   4      0.054664 40000000 1   \n",
       "85   5      0.053871 40000000 1   \n",
       "86   6      0.054025 40000000 1   \n",
       "87   7      0.053482 40000000 1   \n",
       "88   8      0.053168 40000000 1   \n",
       "89   9      0.053555 40000000 1   \n",
       "90  10      0.052971 40000000 1   \n",
       "91   1      0.067347 50000000 1   \n",
       "92   2      0.066210 50000000 1   \n",
       "93   3      0.066959 50000000 1   \n",
       "94   4      0.067223 50000000 1   \n",
       "95   5      0.067356 50000000 1   \n",
       "96   6      0.066328 50000000 1   \n",
       "97   7      0.066352 50000000 1   \n",
       "98   8      0.067573 50000000 1   \n",
       "99   9      0.067245 50000000 1   \n",
       "100 10      0.069816 50000000 1   "
      ]
     },
     "metadata": {},
     "output_type": "display_data"
    }
   ],
   "source": [
    "results"
   ]
  },
  {
   "cell_type": "code",
   "execution_count": 4,
   "metadata": {},
   "outputs": [],
   "source": [
    "attach(results)"
   ]
  },
  {
   "cell_type": "code",
   "execution_count": 5,
   "metadata": {},
   "outputs": [
    {
     "data": {
      "text/html": [
       "<table>\n",
       "<thead><tr><th scope=col>size</th><th scope=col>type</th><th scope=col>time</th></tr></thead>\n",
       "<tbody>\n",
       "\t<tr><td>10000000 </td><td>1        </td><td>0.0135255</td></tr>\n",
       "\t<tr><td>20000000 </td><td>1        </td><td>0.0268758</td></tr>\n",
       "\t<tr><td>30000000 </td><td>1        </td><td>0.0411928</td></tr>\n",
       "\t<tr><td>40000000 </td><td>1        </td><td>0.0536874</td></tr>\n",
       "\t<tr><td>50000000 </td><td>1        </td><td>0.0672409</td></tr>\n",
       "\t<tr><td>    2000 </td><td>2        </td><td>0.0049284</td></tr>\n",
       "\t<tr><td>    4000 </td><td>2        </td><td>0.0202513</td></tr>\n",
       "\t<tr><td>    6000 </td><td>2        </td><td>0.0476127</td></tr>\n",
       "\t<tr><td>    8000 </td><td>2        </td><td>0.0851036</td></tr>\n",
       "\t<tr><td>   10000 </td><td>2        </td><td>0.1285190</td></tr>\n",
       "</tbody>\n",
       "</table>\n"
      ],
      "text/latex": [
       "\\begin{tabular}{r|lll}\n",
       " size & type & time\\\\\n",
       "\\hline\n",
       "\t 10000000  & 1         & 0.0135255\\\\\n",
       "\t 20000000  & 1         & 0.0268758\\\\\n",
       "\t 30000000  & 1         & 0.0411928\\\\\n",
       "\t 40000000  & 1         & 0.0536874\\\\\n",
       "\t 50000000  & 1         & 0.0672409\\\\\n",
       "\t     2000  & 2         & 0.0049284\\\\\n",
       "\t     4000  & 2         & 0.0202513\\\\\n",
       "\t     6000  & 2         & 0.0476127\\\\\n",
       "\t     8000  & 2         & 0.0851036\\\\\n",
       "\t    10000  & 2         & 0.1285190\\\\\n",
       "\\end{tabular}\n"
      ],
      "text/markdown": [
       "\n",
       "size | type | time | \n",
       "|---|---|---|---|---|---|---|---|---|---|\n",
       "| 10000000  | 1         | 0.0135255 | \n",
       "| 20000000  | 1         | 0.0268758 | \n",
       "| 30000000  | 1         | 0.0411928 | \n",
       "| 40000000  | 1         | 0.0536874 | \n",
       "| 50000000  | 1         | 0.0672409 | \n",
       "|     2000  | 2         | 0.0049284 | \n",
       "|     4000  | 2         | 0.0202513 | \n",
       "|     6000  | 2         | 0.0476127 | \n",
       "|     8000  | 2         | 0.0851036 | \n",
       "|    10000  | 2         | 0.1285190 | \n",
       "\n",
       "\n"
      ],
      "text/plain": [
       "   size     type time     \n",
       "1  10000000 1    0.0135255\n",
       "2  20000000 1    0.0268758\n",
       "3  30000000 1    0.0411928\n",
       "4  40000000 1    0.0536874\n",
       "5  50000000 1    0.0672409\n",
       "6      2000 2    0.0049284\n",
       "7      4000 2    0.0202513\n",
       "8      6000 2    0.0476127\n",
       "9      8000 2    0.0851036\n",
       "10    10000 2    0.1285190"
      ]
     },
     "metadata": {},
     "output_type": "display_data"
    }
   ],
   "source": [
    "mean_results = aggregate( time ~ size:type, data=results, FUN=mean)\n",
    "mean_results"
   ]
  },
  {
   "cell_type": "code",
   "execution_count": 6,
   "metadata": {},
   "outputs": [
    {
     "data": {
      "text/html": [
       "<table>\n",
       "<thead><tr><th scope=col>size</th><th scope=col>type</th><th scope=col>time</th><th scope=col>sd</th></tr></thead>\n",
       "<tbody>\n",
       "\t<tr><td>10000000    </td><td>1           </td><td>0.0135255   </td><td>0.0005247063</td></tr>\n",
       "\t<tr><td>20000000    </td><td>1           </td><td>0.0268758   </td><td>0.0004517469</td></tr>\n",
       "\t<tr><td>30000000    </td><td>1           </td><td>0.0411928   </td><td>0.0015435486</td></tr>\n",
       "\t<tr><td>40000000    </td><td>1           </td><td>0.0536874   </td><td>0.0005106534</td></tr>\n",
       "\t<tr><td>50000000    </td><td>1           </td><td>0.0672409   </td><td>0.0010291326</td></tr>\n",
       "\t<tr><td>    2000    </td><td>2           </td><td>0.0049284   </td><td>0.0002498489</td></tr>\n",
       "\t<tr><td>    4000    </td><td>2           </td><td>0.0202513   </td><td>0.0006446072</td></tr>\n",
       "\t<tr><td>    6000    </td><td>2           </td><td>0.0476127   </td><td>0.0027471754</td></tr>\n",
       "\t<tr><td>    8000    </td><td>2           </td><td>0.0851036   </td><td>0.0040407212</td></tr>\n",
       "\t<tr><td>   10000    </td><td>2           </td><td>0.1285190   </td><td>0.0026949478</td></tr>\n",
       "</tbody>\n",
       "</table>\n"
      ],
      "text/latex": [
       "\\begin{tabular}{r|llll}\n",
       " size & type & time & sd\\\\\n",
       "\\hline\n",
       "\t 10000000     & 1            & 0.0135255    & 0.0005247063\\\\\n",
       "\t 20000000     & 1            & 0.0268758    & 0.0004517469\\\\\n",
       "\t 30000000     & 1            & 0.0411928    & 0.0015435486\\\\\n",
       "\t 40000000     & 1            & 0.0536874    & 0.0005106534\\\\\n",
       "\t 50000000     & 1            & 0.0672409    & 0.0010291326\\\\\n",
       "\t     2000     & 2            & 0.0049284    & 0.0002498489\\\\\n",
       "\t     4000     & 2            & 0.0202513    & 0.0006446072\\\\\n",
       "\t     6000     & 2            & 0.0476127    & 0.0027471754\\\\\n",
       "\t     8000     & 2            & 0.0851036    & 0.0040407212\\\\\n",
       "\t    10000     & 2            & 0.1285190    & 0.0026949478\\\\\n",
       "\\end{tabular}\n"
      ],
      "text/markdown": [
       "\n",
       "size | type | time | sd | \n",
       "|---|---|---|---|---|---|---|---|---|---|\n",
       "| 10000000     | 1            | 0.0135255    | 0.0005247063 | \n",
       "| 20000000     | 1            | 0.0268758    | 0.0004517469 | \n",
       "| 30000000     | 1            | 0.0411928    | 0.0015435486 | \n",
       "| 40000000     | 1            | 0.0536874    | 0.0005106534 | \n",
       "| 50000000     | 1            | 0.0672409    | 0.0010291326 | \n",
       "|     2000     | 2            | 0.0049284    | 0.0002498489 | \n",
       "|     4000     | 2            | 0.0202513    | 0.0006446072 | \n",
       "|     6000     | 2            | 0.0476127    | 0.0027471754 | \n",
       "|     8000     | 2            | 0.0851036    | 0.0040407212 | \n",
       "|    10000     | 2            | 0.1285190    | 0.0026949478 | \n",
       "\n",
       "\n"
      ],
      "text/plain": [
       "   size     type time      sd          \n",
       "1  10000000 1    0.0135255 0.0005247063\n",
       "2  20000000 1    0.0268758 0.0004517469\n",
       "3  30000000 1    0.0411928 0.0015435486\n",
       "4  40000000 1    0.0536874 0.0005106534\n",
       "5  50000000 1    0.0672409 0.0010291326\n",
       "6      2000 2    0.0049284 0.0002498489\n",
       "7      4000 2    0.0202513 0.0006446072\n",
       "8      6000 2    0.0476127 0.0027471754\n",
       "9      8000 2    0.0851036 0.0040407212\n",
       "10    10000 2    0.1285190 0.0026949478"
      ]
     },
     "metadata": {},
     "output_type": "display_data"
    }
   ],
   "source": [
    "plot_results = mean_results\n",
    "plot_results$sd = aggregate(time ~ size:type, data=results, FUN=sd)$time\n",
    "plot_results"
   ]
  },
  {
   "cell_type": "code",
   "execution_count": 25,
   "metadata": {},
   "outputs": [
    {
     "data": {},
     "metadata": {},
     "output_type": "display_data"
    },
    {
     "data": {
      "image/png": "[encoded data removed]",
      "text/plain": [
       "plot without title"
      ]
     },
     "metadata": {},
     "output_type": "display_data"
    }
   ],
   "source": [
    "plot1 = ggplot(plot_results[plot_results$type==1,], aes(x=size, y=time)) + geom_errorbar(aes(ymin = time-sd, ymax = time+sd), width=1000000) + geom_point()\n",
    "plot1"
   ]
  },
  {
   "cell_type": "code",
   "execution_count": 26,
   "metadata": {},
   "outputs": [
    {
     "data": {},
     "metadata": {},
     "output_type": "display_data"
    },
    {
     "data": {
      "image/png": "[encoded data removed]",
      "text/plain": [
       "plot without title"
      ]
     },
     "metadata": {},
     "output_type": "display_data"
    }
   ],
   "source": [
    "vector_results = plot_results[plot_results$type==1,]\n",
    "fit1= lm(time ~ poly(size, 1, raw=TRUE), data=vector_results)\n",
    "helper1 = data.frame(size= seq(1e+07, 5e+07, length.out=10000))\n",
    "helper1$y = predict(fit1, helper1)\n",
    "last_plot() +geom_line(data= helper1, aes(size,y))"
   ]
  },
  {
   "cell_type": "code",
   "execution_count": 21,
   "metadata": {},
   "outputs": [
    {
     "data": {},
     "metadata": {},
     "output_type": "display_data"
    },
    {
     "data": {
      "image/png": "[encoded data removed]",
      "text/plain": [
       "plot without title"
      ]
     },
     "metadata": {},
     "output_type": "display_data"
    }
   ],
   "source": [
    "plot2 = ggplot(plot_results[plot_results$type==2,], aes(x=size, y=time)) + geom_errorbar(aes(ymin = time-sd, ymax = time+sd), width=100) + geom_point()\n",
    "plot2"
   ]
  },
  {
   "cell_type": "code",
   "execution_count": 22,
   "metadata": {},
   "outputs": [
    {
     "data": {},
     "metadata": {},
     "output_type": "display_data"
    },
    {
     "data": {
      "image/png": "[encoded data removed]",
      "text/plain": [
       "plot without title"
      ]
     },
     "metadata": {},
     "output_type": "display_data"
    }
   ],
   "source": [
    "array_results = plot_results[plot_results$type==2,]\n",
    "fit2= lm(time ~ poly(size, 2, raw=TRUE), data=array_results)\n",
    "helper2 = data.frame(size= seq(2000, 10000, length.out=8000))\n",
    "helper2$y = predict(fit2, helper2)\n",
    "last_plot() + geom_line(data= helper2, aes(size,y))"
   ]
  },
  {
   "cell_type": "code",
   "execution_count": null,
   "metadata": {},
   "outputs": [],
   "source": []
  }
 ],
 "metadata": {
  "kernelspec": {
   "display_name": "R",
   "language": "R",
   "name": "ir"
  },
  "language_info": {
   "codemirror_mode": "r",
   "file_extension": ".r",
   "mimetype": "text/x-r-source",
   "name": "R",
   "pygments_lexer": "r",
   "version": "3.2.3"
  }
 },
 "nbformat": 4,
 "nbformat_minor": 2
}
